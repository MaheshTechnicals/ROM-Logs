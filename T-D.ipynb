Here is the updated JSON code with the magnet URL hardcoded, so it doesn't ask the user for input:

### Updated JSON Code for `.ipynb` File

```json
{
 "cells": [
  {
   "cell_type": "code",
   "execution_count": null,
   "metadata": {},
   "outputs": [],
   "source": [
    "# Install required libraries\n",
    "!apt-get install python3-libtorrent -y\n",
    "!pip install google-colab\n",
    "\n",
    "import libtorrent as lt\n",
    "import time\n",
    "import datetime\n",
    "import google.colab.drive as drive\n",
    "import os\n",
    "\n",
    "# Mount Google Drive\n",
    "drive.mount('/content/drive')\n",
    "\n",
    "# Change directory to a specific folder in Google Drive (optional)\n",
    "save_path = '/content/drive/My Drive/TorrentDownloads'\n",
    "os.makedirs(save_path, exist_ok=True)\n",
    "\n",
    "# Magnet link (hardcoded)\n",
    "magnet_link = \"magnet:?xt=urn:btih:EE34425D5595F37297BC8C94DAB3184C02D43DAF&tr=udp%3A%2F%2Ftracker2.dler.com%3A80%2Fannounce&tr=udp%3A%2F%2Fwww.torrent.eu.org%3A451%2Fannounce&tr=udp%3A%2F%2Ftracker.torrent.eu.org%3A451%2Fannounce&tr=udp%3A%2F%2Ftracker.opentrackr.org%3A1337%2Fannounce&tr=udp%3A%2F%2Fpow7.com%3A80%2Fannounce&tr=udp%3A%2F%2Ftracker.bitsearch.to%3A1337%2Fannounce&dn=%5Bbitsearch.to%5D+Naruto+Shippuden+(001-500)+%5BComplete+Series+%2B+Movies%5D+(Dual+Audio)\"\n",
    "\n",
    "# Initialize session and add magnet link\n",
    "session = lt.session()\n",
    "params = {\n",
    "    'save_path': save_path,\n",
    "    'storage_mode': lt.storage_mode_t.storage_mode_sparse,\n",
    "    'auto_managed': True,\n",
    "    'duplicate_is_error': True\n",
    "}\n",
    "\n",
    "handle = lt.add_magnet_uri(session, magnet_link, params)\n",
    "\n",
    "print(f'Downloading Metadata for Torrent: {magnet_link}...')\n",
    "while not handle.has_metadata():\n",
    "    time.sleep(1)\n",
    "\n",
    "print(f'Starting Torrent Download: {handle.name()}...')\n",
    "print()\n",
    "\n",
    "# Display download progress\n",
    "while not handle.is_seed():\n",
    "    s = handle.status()\n",
    "    state_str = ['queued', 'checking', 'downloading metadata', 'downloading', 'finished', 'seeding', 'allocating', 'checking fastresume']\n",
    "    \n",
    "    print(f'\\rDownload Progress: {s.progress * 100:.2f}% | '\n",
    "          f'State: {state_str[s.state]} | '\n",
    "          f'Download Rate: {s.download_rate / 1000:.2f} kB/s | '\n",
    "          f'Upload Rate: {s.upload_rate / 1000:.2f} kB/s | '\n",
    "          f'Peers: {s.num_peers} | '\n",
    "          f'ETA: {str(datetime.timedelta(seconds=int(s.total_wanted_done / max(1, s.download_rate))))}',\n",
    "          end=' ')\n",
    "    \n",
    "    time.sleep(1)\n",
    "\n",
    "print(\"\\n\\nDownload Complete!\")\n",
    "\n",
    "# Save the download information to a file (optional)\n",
    "with open(f'{save_path}/{handle.name()}.status', 'w') as f:\n",
    "    f.write(f'Torrent Name: {handle.name()}\\n')\n",
    "    f.write(f'Completed: {datetime.datetime.now()}\\n')\n"
   ]
  }
 ],
 "metadata": {
  "colab": {
   "name": "torrent_download_colab.ipynb",
   "provenance": []
  },
  "kernelspec": {
   "display_name": "Python 3",
   "name": "python3"
  },
  "language_info": {
   "name": "python"
  }
 },
 "nbformat": 4,
 "nbformat_minor": 2
}
