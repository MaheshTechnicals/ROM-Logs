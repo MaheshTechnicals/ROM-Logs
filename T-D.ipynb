{
 "cells": [
  {
   "cell_type": "code",
   "execution_count": null,
   "id": "e2b6b1a5",
   "metadata": {},
   "outputs": [],
   "source": [
    "# Install aria2\n",
    "!apt-get install aria2 -y\n",
    "!pip install google-colab\n",
    "\n",
    "import google.colab.drive as drive\n",
    "import os\n",
    "import subprocess\n",  # Import subprocess module
    "import time\n",
    "\n",
    "# Mount Google Drive\n",
    "drive.mount('/content/drive')\n",
    "\n",
    "# Directory to save downloaded files\n",
    "save_path = '/content/drive/My Drive/TorrentDownloads'\n",
    "os.makedirs(save_path, exist_ok=True)\n",
    "\n",
    "# Magnet link\n",
    "magnet_link = \"magnet:?xt=urn:btih:EE34425D5595F37297BC8C94DAB3184C02D43DAF&tr=udp%3A%2F%2Ftracker2.dler.com%3A80%2Fannounce&tr=udp%3A%2F%2Fwww.torrent.eu.org%3A451%2Fannounce&tr=udp%3A%2F%2Ftracker.torrent.eu.org%3A451%2Fannounce&tr=udp%3A%2F%2Ftracker.opentrackr.org%3A1337%2Fannounce&tr=udp%3A%2F%2Fpow7.com%3A80%2Fannounce&tr=udp%3A%2F%2Ftracker.bitsearch.to%3A1337%2Fannounce&dn=%5Bbitsearch.to%5D+Naruto+Shippuden+(001-500)+%5BComplete+Series+%2B+Movies%5D+(Dual+Audio)\"\n",
    "\n",
    "# Save the torrent file and start downloading\n",
    "torrent_file = f'{save_path}/download.torrent'\n",
    "# Create an aria2 command with the magnet link quoted\n",
    "aria2_command = f'aria2c --seed-time=0 --dir={save_path} --torrent-file={torrent_file} \"{magnet_link}\"'\n",
    "!echo {aria2_command}\n",
    "!{aria2_command}\n",
    "\n",
    "# Display progress and status\n",
    "print(\"Starting torrent download...\")\n",
    "def check_progress():\n",
    "    result = subprocess.run(['aria2c', '--show-console-readout=false', '--summary-interval=1', '--log-level=notice', '--bt-metadata-only=true', '--dir=' + save_path, '--torrent-file=' + torrent_file, magnet_link], capture_output=True, text=True)\n",
    "    output = result.stdout\n",
    "    if 'Complete' in output:\n",
    "        print(\"\\n\\nDownload Complete!\")\n",
    "    else:\n",
    "        print(\"\\n\\nDownload Progress:\")\n",
    "        print(output)\n",
    "\n",
    "# Monitor the progress\n",
    "while True:\n",
    "    check_progress()\n",
    "    if 'Complete' in subprocess.getoutput(f'cat {torrent_file}'):  # Check if download is complete\n",
    "        break\n",
    "    time.sleep(30)\n",
    "\n",
    "print(\"\\n\\nDownload Complete!\")"
   ]
  }
 ],
 "metadata": {
  "colab": {
   "name": "aria2_torrent_download_colab.ipynb",
   "provenance": []
  },
  "kernelspec": {
   "display_name": "Python 3",
   "name": "python3"
  },
  "language_info": {
   "name": "python"
  }
 },
 "nbformat": 4,
 "nbformat_minor": 5
}
