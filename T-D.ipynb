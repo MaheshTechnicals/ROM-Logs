{
 "cells": [
  {
   "cell_type": "code",
   "execution_count": null,
   "metadata": {},
   "outputs": [],
   "source": [
    "# Install required libraries\n",
    "!apt-get install python3-libtorrent -y\n",
    "!pip install google-colab\n",
    "\n",
    "import libtorrent as lt\n",
    "import time\n",
    "import datetime\n",
    "import google.colab.drive as drive\n",
    "import os\n",
    "\n",
    "# Mount Google Drive\n",
    "drive.mount('/content/drive')\n",
    "\n",
    "# Change directory to a specific folder in Google Drive (optional)\n",
    "save_path = '/content/drive/My Drive/TorrentDownloads'\n",
    "os.makedirs(save_path, exist_ok=True)\n",
    "\n",
    "# Ask the user for the magnet link\n",
    "magnet_link = input(\"Please enter the magnet link: \")\n",
    "\n",
    "# Initialize session and add magnet link\n",
    "session = lt.session()\n",
    "params = {\n",
    "    'save_path': save_path,\n",
    "    'storage_mode': lt.storage_mode_t(2),\n",
    "    'paused': False,\n",
    "    'auto_managed': True,\n",
    "    'duplicate_is_error': True\n",
    "}\n",
    "\n",
    "handle = lt.add_magnet_uri(session, magnet_link, params)\n",
    "\n",
    "print(f'Downloading Metadata for Torrent: {handle.name()}...')\n",
    "while not handle.has_metadata():\n",
    "    time.sleep(1)\n",
    "\n",
    "print(f'Starting Torrent Download: {handle.name()}...')\n",
    "print()\n",
    "\n",
    "# Display download progress\n",
    "while not handle.is_seed():\n",
    "    s = handle.status()\n",
    "    state_str = ['queued', 'checking', 'downloading metadata', 'downloading', 'finished', 'seeding', 'allocating', 'checking fastresume']\n",
    "    \n",
    "    print(f'\\rDownload Progress: {s.progress * 100:.2f}% | '\n",
    "          f'State: {state_str[s.state]} | '\n",
    "          f'Download Rate: {s.download_rate / 1000:.2f} kB/s | '\n",
    "          f'Upload Rate: {s.upload_rate / 1000:.2f} kB/s | '\n",
    "          f'Peers: {s.num_peers} | '\n",
    "          f'ETA: {str(datetime.timedelta(seconds=int(s.total_wanted_done / max(1, s.download_rate))))}',\n",
    "          end=' ')\n",
    "    \n",
    "    time.sleep(1)\n",
    "\n",
    "print(\"\\n\\nDownload Complete!\")\n",
    "\n",
    "# Save the download information to a file (optional)\n",
    "with open(f'{save_path}/{handle.name()}.status', 'w') as f:\n",
    "    f.write(f'Torrent Name: {handle.name()}\\n')\n",
    "    f.write(f'Completed: {datetime.datetime.now()}\\n')\n"
   ]
  }
 ],
 "metadata": {
  "colab": {
   "name": "torrent_download_colab.ipynb",
   "provenance": []
  },
  "kernelspec": {
   "display_name": "Python 3",
   "name": "python3"
  },
  "language_info": {
   "name": "python"
  }
 },
 "nbformat": 4,
 "nbformat_minor": 2
}
